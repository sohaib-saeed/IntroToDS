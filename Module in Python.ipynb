{
 "cells": [
  {
   "cell_type": "markdown",
   "id": "779a9769",
   "metadata": {},
   "source": [
    "### Assignment-07 (Module_in_Python)\n",
    "- Change the notebook name with your name and Roll Number.\n",
    "- Try this as your own, no chatgpt (it's for your learning)\n",
    "- after completing the assignment, submit this book on google class room."
   ]
  },
  {
   "cell_type": "markdown",
   "id": "46e7a5c0",
   "metadata": {},
   "source": [
    "Explain the difference between import module and from module import *. Provide an example for each.\n"
   ]
  },
  {
   "cell_type": "code",
   "execution_count": 1,
   "id": "3e218580",
   "metadata": {},
   "outputs": [
    {
     "name": "stdout",
     "output_type": "stream",
     "text": [
      "5.0\n",
      "3.141592653589793\n",
      "5.0\n",
      "3.141592653589793\n"
     ]
    }
   ],
   "source": [
    "'''Import module: This syntax imports the entire module, making all its functions, classes, and variables accessible under the module's namespace.'''\n",
    "#Example\n",
    "import math\n",
    "print(math.sqrt(25)) \n",
    "print(math.pi)         \n",
    "\n",
    "'''From module import *: This syntax imports all names (functions, classes, variables) defined in the module into the current namespace. It's generally discouraged due to potential namespace pollution and conflicts, as it imports everything into the current namespace, which can lead to naming collisions.'''\n",
    "\n",
    "#Example\n",
    "from math import *\n",
    "print(sqrt(25)) \n",
    "print(pi)    \n",
    "\n"
   ]
  },
  {
   "cell_type": "markdown",
   "id": "935bbfe7",
   "metadata": {},
   "source": [
    "What is an alias, and how can it be used while importing a module? Provide an example.\n"
   ]
  },
  {
   "cell_type": "code",
   "execution_count": 2,
   "id": "944a369c",
   "metadata": {},
   "outputs": [
    {
     "name": "stdout",
     "output_type": "stream",
     "text": [
      "5.0\n",
      "3.141592653589793\n"
     ]
    }
   ],
   "source": [
    "'''An alias in Python is an alternate name that can be assigned to a module, function, or class during import. Aliases are useful for shortening long module names, avoiding naming conflicts, and improving code readability.\n",
    "\n",
    "You can create an alias using the \"as\" keyword followed by the desired alias name.'''\n",
    "#Example\n",
    "import math as m\n",
    "print(m.sqrt(25))  \n",
    "print(m.pi)       \n"
   ]
  },
  {
   "cell_type": "markdown",
   "id": "1e1d37c8",
   "metadata": {},
   "source": [
    "Demonstrate the use of the importlib module to import a module dynamically."
   ]
  },
  {
   "cell_type": "code",
   "execution_count": 3,
   "id": "cd334b12",
   "metadata": {},
   "outputs": [
    {
     "name": "stdout",
     "output_type": "stream",
     "text": [
      "5.0\n",
      "3.141592653589793\n"
     ]
    }
   ],
   "source": [
    "import importlib\n",
    "module_name = \"math\"\n",
    "dynamic_module = importlib.import_module(module_name)\n",
    "print(dynamic_module.sqrt(25))  \n",
    "print(dynamic_module.pi)        \n"
   ]
  },
  {
   "cell_type": "markdown",
   "id": "520b6194",
   "metadata": {},
   "source": [
    "Implement a function that takes an angle in degrees and converts it to radians using the math module."
   ]
  },
  {
   "cell_type": "code",
   "execution_count": 4,
   "id": "944626ba",
   "metadata": {},
   "outputs": [
    {
     "name": "stdout",
     "output_type": "stream",
     "text": [
      "45 degrees is equal to 0.7853981633974483 radians.\n"
     ]
    }
   ],
   "source": [
    "import math\n",
    "def degrees_to_radians(degrees):\n",
    "    radians = math.radians(degrees)\n",
    "    return radians\n",
    "angle_degrees = 45\n",
    "angle_radians = degrees_to_radians(angle_degrees)\n",
    "print(f\"{angle_degrees} degrees is equal to {angle_radians} radians.\")\n"
   ]
  },
  {
   "cell_type": "markdown",
   "id": "b81395fe",
   "metadata": {},
   "source": [
    "Create a program that simulates the rolling of a six-sided die using the random module."
   ]
  },
  {
   "cell_type": "code",
   "execution_count": 5,
   "id": "f5698b8a",
   "metadata": {},
   "outputs": [
    {
     "name": "stdout",
     "output_type": "stream",
     "text": [
      "Roll 1: 1\n",
      "Roll 2: 6\n",
      "Roll 3: 4\n",
      "Roll 4: 2\n",
      "Roll 5: 3\n"
     ]
    }
   ],
   "source": [
    "import random\n",
    "def roll_die():\n",
    "    return random.randint(1, 6)\n",
    "def main():\n",
    "    for i in range(5):\n",
    "        roll_result = roll_die()\n",
    "        print(f\"Roll {i+1}: {roll_result}\")\n",
    "main()\n"
   ]
  },
  {
   "cell_type": "markdown",
   "id": "aefd02a7",
   "metadata": {},
   "source": [
    "Implement a timer function that measures the execution time of a piece of code using the time module."
   ]
  },
  {
   "cell_type": "code",
   "execution_count": 6,
   "id": "b779c39c",
   "metadata": {},
   "outputs": [
    {
     "name": "stdout",
     "output_type": "stream",
     "text": [
      "Function executed.\n",
      "Execution time of 'example_function': 2.013607 seconds\n"
     ]
    }
   ],
   "source": [
    "import time\n",
    "\n",
    "def timer(func):\n",
    "    def wrapper(*args, **kwargs):\n",
    "        start_time = time.time()  \n",
    "        result = func(*args, **kwargs)  \n",
    "        end_time = time.time()  \n",
    "        execution_time = end_time - start_time  \n",
    "        print(f\"Execution time of '{func.__name__}': {execution_time:.6f} seconds\")\n",
    "        return result\n",
    "    return wrapper\n",
    "\n",
    "\n",
    "@timer\n",
    "def example_function():\n",
    "    \n",
    "    time.sleep(2)\n",
    "    print(\"Function executed.\")\n",
    "\n",
    "example_function()\n"
   ]
  },
  {
   "cell_type": "markdown",
   "id": "6d6cdae3",
   "metadata": {},
   "source": [
    "Write a function that calculates the difference in days between two given dates using the datetime module."
   ]
  },
  {
   "cell_type": "code",
   "execution_count": 7,
   "id": "65c3ce92",
   "metadata": {},
   "outputs": [
    {
     "name": "stdout",
     "output_type": "stream",
     "text": [
      "Difference in days between 2024-01-15 and 2024-04-10: 86 days.\n"
     ]
    }
   ],
   "source": [
    "from datetime import datetime\n",
    "\n",
    "def difference_in_days(date1, date2):\n",
    "    datetime1 = datetime.strptime(date1, \"%Y-%m-%d\")\n",
    "    datetime2 = datetime.strptime(date2, \"%Y-%m-%d\")\n",
    "    difference = abs((datetime2 - datetime1).days)\n",
    "    return difference\n",
    "\n",
    "date1 = \"2024-01-15\"\n",
    "date2 = \"2024-04-10\"\n",
    "print(f\"Difference in days between {date1} and {date2}: {difference_in_days(date1, date2)} days.\")\n"
   ]
  },
  {
   "cell_type": "markdown",
   "id": "729111d8",
   "metadata": {},
   "source": [
    "Implement a program that checks if a given year is a leap year using the calendar module."
   ]
  },
  {
   "cell_type": "code",
   "execution_count": 8,
   "id": "067716aa",
   "metadata": {},
   "outputs": [
    {
     "name": "stdout",
     "output_type": "stream",
     "text": [
      "2024 is a leap year.\n"
     ]
    }
   ],
   "source": [
    "import calendar\n",
    "\n",
    "def is_leap_year(year):\n",
    "    return calendar.isleap(year)\n",
    "\n",
    "def main():\n",
    "    year = 2024\n",
    "    if is_leap_year(year):\n",
    "        print(f\"{year} is a leap year.\")\n",
    "    else:\n",
    "        print(f\"{year} is not a leap year.\")\n",
    "main()\n"
   ]
  },
  {
   "cell_type": "markdown",
   "id": "8c4f73f2",
   "metadata": {},
   "source": [
    "Create a program that checks if a specific file exists in a given directory using the os module."
   ]
  },
  {
   "cell_type": "code",
   "execution_count": 9,
   "id": "f62123d1",
   "metadata": {},
   "outputs": [
    {
     "name": "stdout",
     "output_type": "stream",
     "text": [
      "The file 'example.txt' does not exist in the directory '/path/to/directory'.\n"
     ]
    }
   ],
   "source": [
    "import os\n",
    "\n",
    "def file_exists_in_directory(directory, filename):\n",
    "    file_path = os.path.join(directory, filename)\n",
    "    return os.path.exists(file_path)\n",
    "\n",
    "directory = \"/path/to/directory\" \n",
    "filename = \"example.txt\"  \n",
    "if file_exists_in_directory(directory, filename):\n",
    "    print(f\"The file '{filename}' exists in the directory '{directory}'.\")\n",
    "else:\n",
    "    print(f\"The file '{filename}' does not exist in the directory '{directory}'.\")\n"
   ]
  },
  {
   "cell_type": "markdown",
   "id": "c1b34e47",
   "metadata": {},
   "source": [
    "Write a program that uses threading to perform parallel execution of three tasks."
   ]
  },
  {
   "cell_type": "code",
   "execution_count": 10,
   "id": "954bcf1d",
   "metadata": {},
   "outputs": [
    {
     "name": "stdout",
     "output_type": "stream",
     "text": [
      "Task 1 started\n",
      "Task 2 started\n",
      "Task 3 started\n",
      "Task 2 completed\n",
      "Task 1 completed\n",
      "Task 3 completed\n",
      "All tasks completed\n"
     ]
    }
   ],
   "source": [
    "import threading\n",
    "import time\n",
    "\n",
    "def task1():\n",
    "    print(\"Task 1 started\")\n",
    "    time.sleep(3)  \n",
    "    print(\"Task 1 completed\")\n",
    "\n",
    "def task2():\n",
    "    print(\"Task 2 started\")\n",
    "    time.sleep(2) \n",
    "    print(\"Task 2 completed\")\n",
    "\n",
    "def task3():\n",
    "    print(\"Task 3 started\")\n",
    "    time.sleep(4) \n",
    "    print(\"Task 3 completed\")\n",
    "\n",
    "\n",
    "thread1 = threading.Thread(target=task1)\n",
    "thread2 = threading.Thread(target=task2)\n",
    "thread3 = threading.Thread(target=task3)\n",
    "\n",
    "thread1.start()\n",
    "thread2.start()\n",
    "thread3.start()\n",
    "\n",
    "thread1.join()\n",
    "thread2.join()\n",
    "thread3.join()\n",
    "\n",
    "print(\"All tasks completed\")\n"
   ]
  },
  {
   "cell_type": "markdown",
   "id": "0fdd3e7c",
   "metadata": {},
   "source": [
    "Implement a program that downloads an image from a URL using the urllib module."
   ]
  },
  {
   "cell_type": "code",
   "execution_count": 11,
   "id": "950950d9",
   "metadata": {},
   "outputs": [
    {
     "name": "stdout",
     "output_type": "stream",
     "text": [
      "Error downloading image: HTTP Error 404: Not Found\n"
     ]
    }
   ],
   "source": [
    "import urllib.request\n",
    "\n",
    "def download_image(url, filename):\n",
    "    try:\n",
    "        with urllib.request.urlopen(url) as response:\n",
    "            image_data = response.read()\n",
    "            with open(filename, 'wb') as file:\n",
    "                file.write(image_data)\n",
    "            \n",
    "            print(f\"Image downloaded successfully as '{filename}'.\")\n",
    "    except Exception as e:\n",
    "        print(f\"Error downloading image: {e}\")\n",
    "\n",
    "def main():\n",
    "    url = \"https://example.com/image.jpg\"  \n",
    "    filename = \"downloaded_image.jpg\"  \n",
    "    download_image(url, filename)\n",
    "main()"
   ]
  }
 ],
 "metadata": {
  "kernelspec": {
   "display_name": "Python 3 (ipykernel)",
   "language": "python",
   "name": "python3"
  },
  "language_info": {
   "codemirror_mode": {
    "name": "ipython",
    "version": 3
   },
   "file_extension": ".py",
   "mimetype": "text/x-python",
   "name": "python",
   "nbconvert_exporter": "python",
   "pygments_lexer": "ipython3",
   "version": "3.10.0"
  }
 },
 "nbformat": 4,
 "nbformat_minor": 5
}
