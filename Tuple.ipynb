{
 "cells": [
  {
   "cell_type": "markdown",
   "id": "1488806a",
   "metadata": {},
   "source": [
    "### Assignment-04 (Tuple)\n",
    "- Change the notebook name with your name and Roll Number.\n",
    "- Try this as your own, no chatgpt (it's for your learning)\n",
    "- after completing the assignment, submit this book on google class room."
   ]
  },
  {
   "cell_type": "markdown",
   "id": "0f49daa5",
   "metadata": {},
   "source": [
    "    Create an empty tuple and print it.\n",
    "        "
   ]
  },
  {
   "cell_type": "code",
   "execution_count": 56,
   "id": "9f34fb22",
   "metadata": {},
   "outputs": [
    {
     "data": {
      "text/plain": [
       "()"
      ]
     },
     "execution_count": 56,
     "metadata": {},
     "output_type": "execute_result"
    }
   ],
   "source": [
    "my_tuple = ()\n",
    "my_tuple"
   ]
  },
  {
   "cell_type": "markdown",
   "id": "e043fa87",
   "metadata": {},
   "source": [
    "    Create a tuple of your favorite fruits and print it.\n"
   ]
  },
  {
   "cell_type": "code",
   "execution_count": 57,
   "id": "a8075e3e",
   "metadata": {},
   "outputs": [
    {
     "data": {
      "text/plain": [
       "('Mango', 'Apple', 'Java')"
      ]
     },
     "execution_count": 57,
     "metadata": {},
     "output_type": "execute_result"
    }
   ],
   "source": [
    "fav_fruits = (\"Mango\", \"Apple\", \"Java\")\n",
    "fav_fruits\n"
   ]
  },
  {
   "cell_type": "markdown",
   "id": "63103aae",
   "metadata": {},
   "source": [
    "    Create a tuple that includes a mix of data types (integers, strings, floats).\n",
    "  "
   ]
  },
  {
   "cell_type": "code",
   "execution_count": 58,
   "id": "02d21498",
   "metadata": {},
   "outputs": [
    {
     "data": {
      "text/plain": [
       "('Sohaib', 28.0, 'Lahore', 15)"
      ]
     },
     "execution_count": 58,
     "metadata": {},
     "output_type": "execute_result"
    }
   ],
   "source": [
    "mix_tuple = (\"Sohaib\", 28.0, \"Lahore\", 15)\n",
    "mix_tuple"
   ]
  },
  {
   "cell_type": "markdown",
   "id": "704e22bb",
   "metadata": {},
   "source": [
    "  Access the first element of a tuple.\n"
   ]
  },
  {
   "cell_type": "code",
   "execution_count": 59,
   "id": "bf90e463",
   "metadata": {},
   "outputs": [
    {
     "data": {
      "text/plain": [
       "'Sohaib'"
      ]
     },
     "execution_count": 59,
     "metadata": {},
     "output_type": "execute_result"
    }
   ],
   "source": [
    "person = (\"Sohaib\", 28.0, \"Lahore\", 15)\n",
    "person[0]"
   ]
  },
  {
   "cell_type": "markdown",
   "id": "26563419",
   "metadata": {},
   "source": [
    "    Access the last element of a tuple."
   ]
  },
  {
   "cell_type": "code",
   "execution_count": 60,
   "id": "54b98b3a",
   "metadata": {},
   "outputs": [
    {
     "data": {
      "text/plain": [
       "15"
      ]
     },
     "execution_count": 60,
     "metadata": {},
     "output_type": "execute_result"
    }
   ],
   "source": [
    "person = (\"Sohaib\", 28.0, \"Lahore\", 15)\n",
    "person[-1]"
   ]
  },
  {
   "cell_type": "markdown",
   "id": "15d49e96",
   "metadata": {},
   "source": [
    "Access the second and third elements of a tuple.\n"
   ]
  },
  {
   "cell_type": "code",
   "execution_count": 61,
   "id": "1b8f2886",
   "metadata": {},
   "outputs": [
    {
     "data": {
      "text/plain": [
       "(28.0, 'Lahore')"
      ]
     },
     "execution_count": 61,
     "metadata": {},
     "output_type": "execute_result"
    }
   ],
   "source": [
    "person = (\"Sohaib\", 28.0, \"Lahore\", 15)\n",
    "person[1], person[2]"
   ]
  },
  {
   "cell_type": "markdown",
   "id": "069741b2",
   "metadata": {},
   "source": [
    "\n",
    "    Slice a tuple to extract the first three elements.\n",
    "    "
   ]
  },
  {
   "cell_type": "code",
   "execution_count": 62,
   "id": "ba3f17f2",
   "metadata": {},
   "outputs": [
    {
     "data": {
      "text/plain": [
       "('Sohaib', 28.0, 'Lahore')"
      ]
     },
     "execution_count": 62,
     "metadata": {},
     "output_type": "execute_result"
    }
   ],
   "source": [
    "person = (\"Sohaib\", 28.0, \"Lahore\", 15, \"Johr Town\", \"PK\")\n",
    "person[:3]"
   ]
  },
  {
   "cell_type": "markdown",
   "id": "f5f8af36",
   "metadata": {},
   "source": [
    "Slice a tuple to extract the last three elements.\n",
    " "
   ]
  },
  {
   "cell_type": "code",
   "execution_count": 63,
   "id": "72b61419",
   "metadata": {},
   "outputs": [
    {
     "data": {
      "text/plain": [
       "(15, 'Johr Town', 'PK')"
      ]
     },
     "execution_count": 63,
     "metadata": {},
     "output_type": "execute_result"
    }
   ],
   "source": [
    "person = (\"Sohaib\", 28.0, \"Lahore\", 15, \"Johr Town\", \"PK\")\n",
    "person[-3:]"
   ]
  },
  {
   "cell_type": "markdown",
   "id": "fbf3a8e6",
   "metadata": {},
   "source": [
    "   Slice a tuple to get every second element.\n"
   ]
  },
  {
   "cell_type": "code",
   "execution_count": 64,
   "id": "2f28222b",
   "metadata": {},
   "outputs": [
    {
     "data": {
      "text/plain": [
       "(28.0, 15, 'PK')"
      ]
     },
     "execution_count": 64,
     "metadata": {},
     "output_type": "execute_result"
    }
   ],
   "source": [
    "person = (\"Sohaib\", 28.0, \"Lahore\", 15, \"Johr Town\", \"PK\")\n",
    "person[1::2]"
   ]
  },
  {
   "cell_type": "markdown",
   "id": "972a3d7e",
   "metadata": {},
   "source": [
    "    Reverse a tuple using slicing."
   ]
  },
  {
   "cell_type": "code",
   "execution_count": 65,
   "id": "a0c026b2",
   "metadata": {},
   "outputs": [
    {
     "data": {
      "text/plain": [
       "('PK', 'Johr Town', 15, 'Lahore', 28.0, 'Sohaib')"
      ]
     },
     "execution_count": 65,
     "metadata": {},
     "output_type": "execute_result"
    }
   ],
   "source": [
    "person = (\"Sohaib\", 28.0, \"Lahore\", 15, \"Johr Town\", \"PK\")\n",
    "person[::-1]"
   ]
  },
  {
   "cell_type": "markdown",
   "id": "ff819f8c",
   "metadata": {},
   "source": [
    "Create two tuples and concatenate them.\n",
    "\n"
   ]
  },
  {
   "cell_type": "code",
   "execution_count": 66,
   "id": "34bb1253",
   "metadata": {},
   "outputs": [
    {
     "data": {
      "text/plain": [
       "('Sohaib', 28.0, 'Lahore', 15, 'Johr Town', 'PK')"
      ]
     },
     "execution_count": 66,
     "metadata": {},
     "output_type": "execute_result"
    }
   ],
   "source": [
    "person = (\"Sohaib\", 28.0)\n",
    "details = (\"Lahore\", 15, \"Johr Town\", \"PK\")\n",
    "new = person + details\n",
    "new"
   ]
  },
  {
   "cell_type": "markdown",
   "id": "6f81c447",
   "metadata": {},
   "source": [
    "    Repeat a tuple multiple times using the repetition operator."
   ]
  },
  {
   "cell_type": "code",
   "execution_count": 67,
   "id": "a7993e54",
   "metadata": {},
   "outputs": [
    {
     "data": {
      "text/plain": [
       "('Sohaib',\n",
       " 28.0,\n",
       " 'Lahore',\n",
       " 15,\n",
       " 'Johr Town',\n",
       " 'PK',\n",
       " 'Sohaib',\n",
       " 28.0,\n",
       " 'Lahore',\n",
       " 15,\n",
       " 'Johr Town',\n",
       " 'PK')"
      ]
     },
     "execution_count": 67,
     "metadata": {},
     "output_type": "execute_result"
    }
   ],
   "source": [
    "person = (\"Sohaib\", 28.0, \"Lahore\", 15, \"Johr Town\", \"PK\")\n",
    "new = person * 2\n",
    "new"
   ]
  },
  {
   "cell_type": "markdown",
   "id": "e39bdb1d",
   "metadata": {},
   "source": [
    "Find the index of a specific element in a tuple using the index() method."
   ]
  },
  {
   "cell_type": "code",
   "execution_count": 68,
   "id": "d0887521",
   "metadata": {},
   "outputs": [
    {
     "data": {
      "text/plain": [
       "2"
      ]
     },
     "execution_count": 68,
     "metadata": {},
     "output_type": "execute_result"
    }
   ],
   "source": [
    "person = (\"Sohaib\", 28.0, \"Lahore\", 15, \"Johr Town\", \"PK\")\n",
    "person.index(\"Lahore\")"
   ]
  },
  {
   "cell_type": "markdown",
   "id": "fc66ca7e",
   "metadata": {},
   "source": [
    "    Count the number of occurrences of a specific element in a tuple using the count() method."
   ]
  },
  {
   "cell_type": "code",
   "execution_count": 69,
   "id": "d9bf2831",
   "metadata": {},
   "outputs": [
    {
     "data": {
      "text/plain": [
       "1"
      ]
     },
     "execution_count": 69,
     "metadata": {},
     "output_type": "execute_result"
    }
   ],
   "source": [
    "person = (\"Sohaib\", 28.0, \"Lahore\", 15, \"Johr Town\", \"PK\")\n",
    "person.count(\"PK\")"
   ]
  },
  {
   "cell_type": "markdown",
   "id": "9bdef970",
   "metadata": {},
   "source": [
    "Sort a tuple of numbers in ascending order.\n",
    "\n"
   ]
  },
  {
   "cell_type": "code",
   "execution_count": 70,
   "id": "326fca51",
   "metadata": {},
   "outputs": [
    {
     "data": {
      "text/plain": [
       "(1, 2, 3, 5, 6, 7, 9, 10)"
      ]
     },
     "execution_count": 70,
     "metadata": {},
     "output_type": "execute_result"
    }
   ],
   "source": [
    "numbers = (7,1,3,5,9,2,10,6)\n",
    "numbers = list(numbers)\n",
    "numbers.sort()\n",
    "numbers = tuple(numbers)\n",
    "numbers"
   ]
  },
  {
   "cell_type": "markdown",
   "id": "2b1d9be5",
   "metadata": {},
   "source": [
    "    Sort a tuple of strings in alphabetical order."
   ]
  },
  {
   "cell_type": "code",
   "execution_count": 71,
   "id": "5b0a511f",
   "metadata": {},
   "outputs": [
    {
     "data": {
      "text/plain": [
       "('a', 'b', 'c', 'd', 'e', 'f')"
      ]
     },
     "execution_count": 71,
     "metadata": {},
     "output_type": "execute_result"
    }
   ],
   "source": [
    "string = (\"f\",\"d\",\"a\",\"c\",\"b\",\"e\")\n",
    "string = list(string)\n",
    "string.sort()\n",
    "string = tuple(string)\n",
    "string"
   ]
  },
  {
   "cell_type": "markdown",
   "id": "0393ae63",
   "metadata": {},
   "source": [
    "Sort a tuple of tuples based on the second element of each inner tuple."
   ]
  },
  {
   "cell_type": "code",
   "execution_count": 72,
   "id": "5b0d33fd",
   "metadata": {},
   "outputs": [
    {
     "name": "stdout",
     "output_type": "stream",
     "text": [
      "Sorted tuple: [(4, 1), (2, 3), (1, 5), (3, 7)]\n"
     ]
    }
   ],
   "source": [
    "numbers = ((1, 5), (2, 3), (3, 7), (4, 1))\n",
    "new = sorted(numbers, key=lambda x: x[1])\n",
    "print(\"Sorted tuple:\", new)"
   ]
  },
  {
   "cell_type": "markdown",
   "id": "65b8f449",
   "metadata": {},
   "source": [
    "Compare two tuples to see if they are equal in both value and identity."
   ]
  },
  {
   "cell_type": "code",
   "execution_count": 73,
   "id": "e09a6135",
   "metadata": {},
   "outputs": [
    {
     "name": "stdout",
     "output_type": "stream",
     "text": [
      "No.\n",
      "Yes.\n"
     ]
    }
   ],
   "source": [
    "numbers_1 = (1,2,3,4,5,6,7)\n",
    "numbers_2 = (2,3,4,5,6,7,8)\n",
    "numbers_3 = numbers_2\n",
    "if numbers_1 == numbers_2:\n",
    "    print(\"Yes.\")\n",
    "else:\n",
    "    print(\"No.\")\n",
    "if numbers_3 is numbers_2:\n",
    "    print(\"Yes.\")\n",
    "else:\n",
    "    print(\"No.\")"
   ]
  },
  {
   "cell_type": "markdown",
   "id": "0810cc18",
   "metadata": {},
   "source": [
    "Create a shallow copy of a tuple and observe the effects of modifying one of the tuples.\n",
    "\n"
   ]
  },
  {
   "cell_type": "code",
   "execution_count": 74,
   "id": "426bacd6",
   "metadata": {},
   "outputs": [
    {
     "name": "stdout",
     "output_type": "stream",
     "text": [
      "(1, [20, 3], 4)\n",
      "(1, [20, 3], 4)\n"
     ]
    }
   ],
   "source": [
    "import copy\n",
    "numbers = (1, [2, 3], 4)\n",
    "new = copy.copy(numbers)\n",
    "new[1][0] = 20\n",
    "print(numbers)\n",
    "print(new)\n",
    "\n"
   ]
  },
  {
   "cell_type": "markdown",
   "id": "f14455c5",
   "metadata": {},
   "source": [
    "    Create a deep copy of a nested tuple and observe the effects of modifying one of the tuples.\n"
   ]
  },
  {
   "cell_type": "code",
   "execution_count": 75,
   "id": "4564c764",
   "metadata": {},
   "outputs": [
    {
     "name": "stdout",
     "output_type": "stream",
     "text": [
      "(1, 2, 3, 4, [5, 6, 7, 8], 9, 10)\n",
      "(1, 2, 3, 4, [5, 20, 7, 8], 9, 10)\n"
     ]
    }
   ],
   "source": [
    "import copy\n",
    "numbers = (1,2,3,4,[5,6,7,8],9,10)\n",
    "new = copy.deepcopy(numbers)\n",
    "new[4][1] = 20\n",
    "print(numbers)\n",
    "print(new)"
   ]
  },
  {
   "cell_type": "markdown",
   "id": "b01879a0",
   "metadata": {},
   "source": [
    "    Pickle a tuple and save it to a file.\n"
   ]
  },
  {
   "cell_type": "code",
   "execution_count": 76,
   "id": "55ddfbd4",
   "metadata": {},
   "outputs": [],
   "source": [
    "import pickle\n",
    "numbers = (1,2,3,4,5,6,7,8,9,10)\n",
    "with open (\"numbers.txt\", \"wb\") as file:\n",
    "    pickle.dump(numbers, file)\n"
   ]
  },
  {
   "cell_type": "markdown",
   "id": "6874f46a",
   "metadata": {},
   "source": [
    "    Unpickle a tuple from a file and display its content."
   ]
  },
  {
   "cell_type": "code",
   "execution_count": 77,
   "id": "02f8549f",
   "metadata": {},
   "outputs": [
    {
     "data": {
      "text/plain": [
       "(1, 2, 3, 4, 5, 6, 7, 8, 9, 10)"
      ]
     },
     "execution_count": 77,
     "metadata": {},
     "output_type": "execute_result"
    }
   ],
   "source": [
    "import pickle\n",
    "with open (\"numbers.txt\", \"rb\") as file:\n",
    "    new_numbers = pickle.load(file)\n",
    "new_numbers"
   ]
  }
 ],
 "metadata": {
  "kernelspec": {
   "display_name": "Python 3 (ipykernel)",
   "language": "python",
   "name": "python3"
  },
  "language_info": {
   "codemirror_mode": {
    "name": "ipython",
    "version": 3
   },
   "file_extension": ".py",
   "mimetype": "text/x-python",
   "name": "python",
   "nbconvert_exporter": "python",
   "pygments_lexer": "ipython3",
   "version": "3.10.0"
  }
 },
 "nbformat": 4,
 "nbformat_minor": 5
}
