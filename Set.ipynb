{
 "cells": [
  {
   "cell_type": "markdown",
   "id": "a97576a6",
   "metadata": {},
   "source": [
    "### Assignment-03 (SET)\n",
    "- Change the notebook name with your name and Roll Number.\n",
    "- Try this as your own, no chatgpt (it's for your learning)\n",
    "- after completing the assignment, submit this book on google class room."
   ]
  },
  {
   "cell_type": "markdown",
   "id": "d1ddf3da",
   "metadata": {},
   "source": [
    "    Create an empty set and print it.\n",
    "  "
   ]
  },
  {
   "cell_type": "code",
   "execution_count": 107,
   "id": "c9e9db1e",
   "metadata": {},
   "outputs": [
    {
     "data": {
      "text/plain": [
       "{}"
      ]
     },
     "execution_count": 107,
     "metadata": {},
     "output_type": "execute_result"
    }
   ],
   "source": [
    "my_set = {}\n",
    "my_set"
   ]
  },
  {
   "cell_type": "markdown",
   "id": "eeb8fb4d",
   "metadata": {},
   "source": [
    "  Create a set of your favorite colors and print it.\n"
   ]
  },
  {
   "cell_type": "code",
   "execution_count": 108,
   "id": "d8867e41",
   "metadata": {},
   "outputs": [
    {
     "data": {
      "text/plain": [
       "{'Black', 'Blue', 'Green', 'Grey', 'White'}"
      ]
     },
     "execution_count": 108,
     "metadata": {},
     "output_type": "execute_result"
    }
   ],
   "source": [
    "fav_colors = {\"Black\", \"Grey\", \"White\", \"Blue\", \"Green\"}\n",
    "fav_colors"
   ]
  },
  {
   "cell_type": "markdown",
   "id": "5e724df6",
   "metadata": {},
   "source": [
    "    Create a set that includes a mix of data types (integers, strings, floats)."
   ]
  },
  {
   "cell_type": "code",
   "execution_count": 109,
   "id": "e496901a",
   "metadata": {},
   "outputs": [
    {
     "data": {
      "text/plain": [
       "{15, 28.0, 'Lahore', 'Sohaib'}"
      ]
     },
     "execution_count": 109,
     "metadata": {},
     "output_type": "execute_result"
    }
   ],
   "source": [
    "mix_set = {\"Sohaib\", 28.0, \"Lahore\", 15}\n",
    "mix_set"
   ]
  },
  {
   "cell_type": "markdown",
   "id": "d2b80125",
   "metadata": {},
   "source": [
    "Access the elements of a set using a loop and print each element."
   ]
  },
  {
   "cell_type": "code",
   "execution_count": 110,
   "id": "3ceec096",
   "metadata": {},
   "outputs": [
    {
     "name": "stdout",
     "output_type": "stream",
     "text": [
      "Lahore\n",
      "Sohaib\n",
      "28.0\n",
      "15\n"
     ]
    }
   ],
   "source": [
    "mix_set = {\"Sohaib\", 28.0, \"Lahore\", 15}\n",
    "for element in mix_set:\n",
    "    print(element)"
   ]
  },
  {
   "cell_type": "markdown",
   "id": "08fdccf7",
   "metadata": {},
   "source": [
    "add a new element to a set using the add() method."
   ]
  },
  {
   "cell_type": "code",
   "execution_count": 111,
   "id": "5d5273f9",
   "metadata": {},
   "outputs": [
    {
     "data": {
      "text/plain": [
       "{15, 28.0, 'Johr Town', 'Lahore', 'Sohaib'}"
      ]
     },
     "execution_count": 111,
     "metadata": {},
     "output_type": "execute_result"
    }
   ],
   "source": [
    "mix_set = {\"Sohaib\", 28.0, \"Lahore\", 15}\n",
    "mix_set.add(\"Johr Town\")\n",
    "mix_set"
   ]
  },
  {
   "cell_type": "markdown",
   "id": "c8257b4c",
   "metadata": {},
   "source": [
    "Add multiple elements to a set using the update() method."
   ]
  },
  {
   "cell_type": "code",
   "execution_count": 112,
   "id": "d3fe8634",
   "metadata": {},
   "outputs": [
    {
     "data": {
      "text/plain": [
       "{15, 28.0, 923245454, 'Iqbal Town', 'Lahore', 'Sohaib'}"
      ]
     },
     "execution_count": 112,
     "metadata": {},
     "output_type": "execute_result"
    }
   ],
   "source": [
    "mix_set = {\"Sohaib\", 28.0, \"Lahore\", 15}\n",
    "mix_set.update((\"Iqbal Town\",923245454))\n",
    "mix_set"
   ]
  },
  {
   "cell_type": "markdown",
   "id": "e8adbe50",
   "metadata": {},
   "source": [
    "Remove and return an arbitrary element from a set using the pop() method."
   ]
  },
  {
   "cell_type": "code",
   "execution_count": 113,
   "id": "bfdcad15",
   "metadata": {},
   "outputs": [
    {
     "data": {
      "text/plain": [
       "'Lahore'"
      ]
     },
     "execution_count": 113,
     "metadata": {},
     "output_type": "execute_result"
    }
   ],
   "source": [
    "person = {\"Sohaib\", 28.0, 15, \"Iqbal Town\", \"Lahore\", \"Pakistan\", 923343545}\n",
    "person.pop()"
   ]
  },
  {
   "cell_type": "markdown",
   "id": "6bacfc71",
   "metadata": {},
   "source": [
    "Remove a specific element from a set using the remove() method."
   ]
  },
  {
   "cell_type": "code",
   "execution_count": 114,
   "id": "d7d4d697",
   "metadata": {},
   "outputs": [
    {
     "data": {
      "text/plain": [
       "{28.0, 923343545, 'Iqbal Town', 'Lahore', 'Pakistan', 'Sohaib'}"
      ]
     },
     "execution_count": 114,
     "metadata": {},
     "output_type": "execute_result"
    }
   ],
   "source": [
    "person = {\"Sohaib\", 28.0, 15, \"Iqbal Town\", \"Lahore\", \"Pakistan\", 923343545}\n",
    "person.remove(15)\n",
    "person"
   ]
  },
  {
   "cell_type": "markdown",
   "id": "1844da3c",
   "metadata": {},
   "source": [
    "Remove a specific element from a set using the discard() method."
   ]
  },
  {
   "cell_type": "code",
   "execution_count": 115,
   "id": "36164bf7",
   "metadata": {},
   "outputs": [
    {
     "data": {
      "text/plain": [
       "{15, 923343545, 'Iqbal Town', 'Lahore', 'Pakistan', 'Sohaib'}"
      ]
     },
     "execution_count": 115,
     "metadata": {},
     "output_type": "execute_result"
    }
   ],
   "source": [
    "person = {\"Sohaib\", 28.0, 15, \"Iqbal Town\", \"Lahore\", \"Pakistan\", 923343545}\n",
    "person.remove(28.0)\n",
    "person"
   ]
  },
  {
   "cell_type": "markdown",
   "id": "8bd3aadb",
   "metadata": {},
   "source": [
    "Convert a string to a set of unique characters."
   ]
  },
  {
   "cell_type": "code",
   "execution_count": 116,
   "id": "5d135ac7",
   "metadata": {},
   "outputs": [
    {
     "data": {
      "text/plain": [
       "{'S', 'a', 'b', 'd', 'e', 'h', 'i', 'o'}"
      ]
     },
     "execution_count": 116,
     "metadata": {},
     "output_type": "execute_result"
    }
   ],
   "source": [
    "name = \"SohaibSaeed\"\n",
    "name_set = set(name)\n",
    "name_set"
   ]
  },
  {
   "cell_type": "markdown",
   "id": "6c622821",
   "metadata": {},
   "source": [
    "Convert a set of characters to a string."
   ]
  },
  {
   "cell_type": "code",
   "execution_count": 117,
   "id": "fb3156ac",
   "metadata": {},
   "outputs": [
    {
     "data": {
      "text/plain": [
       "'Siohab'"
      ]
     },
     "execution_count": 117,
     "metadata": {},
     "output_type": "execute_result"
    }
   ],
   "source": [
    "name_set = {'S', 'o', 'h', 'a', 'i', 'b'}\n",
    "name = \"\".join(name_set)\n",
    "name"
   ]
  },
  {
   "cell_type": "markdown",
   "id": "9a426c8f",
   "metadata": {},
   "source": [
    "Use the clear() method to remove all elements from a set."
   ]
  },
  {
   "cell_type": "code",
   "execution_count": 118,
   "id": "88a65643",
   "metadata": {},
   "outputs": [],
   "source": [
    "person = {\"Sohaib\", 28.0, 15, \"Iqbal Town\", \"Lahore\", \"Pakistan\", 923343545}\n",
    "person.clear()"
   ]
  },
  {
   "cell_type": "markdown",
   "id": "9edea94d",
   "metadata": {},
   "source": [
    "Use the copy() method to create a shallow copy of a set."
   ]
  },
  {
   "cell_type": "code",
   "execution_count": 119,
   "id": "eb4e0b56",
   "metadata": {},
   "outputs": [
    {
     "data": {
      "text/plain": [
       "{15, 28.0, 923343545, 'Iqbal Town', 'Lahore', 'Pakistan', 'Sohaib'}"
      ]
     },
     "execution_count": 119,
     "metadata": {},
     "output_type": "execute_result"
    }
   ],
   "source": [
    "person = {\"Sohaib\", 28.0, 15, \"Iqbal Town\", \"Lahore\", \"Pakistan\", 923343545}\n",
    "new_person = person.copy()\n",
    "new_person"
   ]
  },
  {
   "cell_type": "markdown",
   "id": "cd9c69f0",
   "metadata": {},
   "source": [
    "Use the difference() method to find the difference between two sets."
   ]
  },
  {
   "cell_type": "code",
   "execution_count": 120,
   "id": "2f816d0f",
   "metadata": {},
   "outputs": [
    {
     "data": {
      "text/plain": [
       "{15, 28.0, 'Iqbal Town', 'Sohaib'}"
      ]
     },
     "execution_count": 120,
     "metadata": {},
     "output_type": "execute_result"
    }
   ],
   "source": [
    "person = {\"Sohaib\", 28.0, 15, \"Iqbal Town\"}\n",
    "Details = {\"Lahore\", \"Pakistan\", 923343545}\n",
    "person.difference(Details)\n"
   ]
  },
  {
   "cell_type": "markdown",
   "id": "307c3f1a",
   "metadata": {},
   "source": [
    "Create two sets and find their union."
   ]
  },
  {
   "cell_type": "code",
   "execution_count": 121,
   "id": "fac5a114",
   "metadata": {},
   "outputs": [
    {
     "data": {
      "text/plain": [
       "{15, 28.0, 923343545, 'Iqbal Town', 'Lahore', 'Pakistan', 'Sohaib'}"
      ]
     },
     "execution_count": 121,
     "metadata": {},
     "output_type": "execute_result"
    }
   ],
   "source": [
    "person = {\"Sohaib\", 28.0, 15, \"Iqbal Town\"}\n",
    "Details = {\"Lahore\", \"Pakistan\", 923343545}\n",
    "person.union(Details)"
   ]
  },
  {
   "cell_type": "markdown",
   "id": "eaf6ba0c",
   "metadata": {},
   "source": [
    "    Create two sets and find their intersection.\n",
    "   "
   ]
  },
  {
   "cell_type": "code",
   "execution_count": 122,
   "id": "1169662c",
   "metadata": {},
   "outputs": [
    {
     "data": {
      "text/plain": [
       "set()"
      ]
     },
     "execution_count": 122,
     "metadata": {},
     "output_type": "execute_result"
    }
   ],
   "source": [
    "person = {\"Sohaib\", 28.0, 15, \"Iqbal Town\"}\n",
    "Details = {\"Lahore\", \"Pakistan\", 923343545}\n",
    "person.intersection(Details)"
   ]
  },
  {
   "cell_type": "markdown",
   "id": "859e1d7f",
   "metadata": {},
   "source": [
    " Create two sets and find their difference.\n"
   ]
  },
  {
   "cell_type": "code",
   "execution_count": 123,
   "id": "681f05e6",
   "metadata": {},
   "outputs": [
    {
     "data": {
      "text/plain": [
       "{28.0, 'Iqbal Town', 'Sohaib'}"
      ]
     },
     "execution_count": 123,
     "metadata": {},
     "output_type": "execute_result"
    }
   ],
   "source": [
    "person = {\"Sohaib\", 28.0, 15, \"Iqbal Town\"}\n",
    "Details = {\"Lahore\", \"Pakistan\", 923343545, 15}\n",
    "new = person - Details\n",
    "new"
   ]
  },
  {
   "cell_type": "markdown",
   "id": "b1c839f5",
   "metadata": {},
   "source": [
    "    Create two sets and find their symmetric difference."
   ]
  },
  {
   "cell_type": "code",
   "execution_count": 124,
   "id": "c2695bb7",
   "metadata": {},
   "outputs": [
    {
     "data": {
      "text/plain": [
       "{28.0, 923343545, 'Iqbal Town', 'Lahore', 'Pakistan', 'Sohaib'}"
      ]
     },
     "execution_count": 124,
     "metadata": {},
     "output_type": "execute_result"
    }
   ],
   "source": [
    "person = {\"Sohaib\", 28.0, 15, \"Iqbal Town\"}\n",
    "Details = {\"Lahore\", \"Pakistan\", 923343545, 15,}\n",
    "person.symmetric_difference(Details)\n"
   ]
  },
  {
   "cell_type": "markdown",
   "id": "41933917",
   "metadata": {},
   "source": [
    "Check if one set is a subset of another."
   ]
  },
  {
   "cell_type": "code",
   "execution_count": 125,
   "id": "fc3d1fd0",
   "metadata": {},
   "outputs": [
    {
     "name": "stdout",
     "output_type": "stream",
     "text": [
      "No.\n"
     ]
    }
   ],
   "source": [
    "person = {\"Sohaib\", 28.0, 15, \"Iqbal Town\"}\n",
    "Details = {\"Lahore\", \"Pakistan\", 923343545}\n",
    "if person.issubset(Details):\n",
    "    print(\"Yes.\")\n",
    "else:\n",
    "    print(\"No.\")"
   ]
  },
  {
   "cell_type": "markdown",
   "id": "65174e5c",
   "metadata": {},
   "source": [
    "    Check if one set is a superset of another.\n"
   ]
  },
  {
   "cell_type": "code",
   "execution_count": 126,
   "id": "cc34dbf9",
   "metadata": {},
   "outputs": [
    {
     "name": "stdout",
     "output_type": "stream",
     "text": [
      "No.\n"
     ]
    }
   ],
   "source": [
    "person = {\"Sohaib\", 28.0, 15, \"Iqbal Town\"}\n",
    "Details = {\"Lahore\", \"Pakistan\", 923343545}\n",
    "if person.issuperset(Details):\n",
    "    print(\"Yes.\")\n",
    "else:\n",
    "    print(\"No.\")"
   ]
  },
  {
   "cell_type": "markdown",
   "id": "e8b05467",
   "metadata": {},
   "source": [
    "    Check if two sets are disjoint (have no common elements)."
   ]
  },
  {
   "cell_type": "code",
   "execution_count": 127,
   "id": "f5e84a48",
   "metadata": {},
   "outputs": [
    {
     "name": "stdout",
     "output_type": "stream",
     "text": [
      "Yes.\n"
     ]
    }
   ],
   "source": [
    "person = {\"Sohaib\", 28.0, 15, \"Iqbal Town\"}\n",
    "Details = {\"Lahore\", \"Pakistan\", 923343545}\n",
    "if person.isdisjoint(Details):\n",
    "    print(\"Yes.\")\n",
    "else:\n",
    "    print(\"No.\")"
   ]
  }
 ],
 "metadata": {
  "kernelspec": {
   "display_name": "Python 3 (ipykernel)",
   "language": "python",
   "name": "python3"
  },
  "language_info": {
   "codemirror_mode": {
    "name": "ipython",
    "version": 3
   },
   "file_extension": ".py",
   "mimetype": "text/x-python",
   "name": "python",
   "nbconvert_exporter": "python",
   "pygments_lexer": "ipython3",
   "version": "3.10.0"
  }
 },
 "nbformat": 4,
 "nbformat_minor": 5
}
