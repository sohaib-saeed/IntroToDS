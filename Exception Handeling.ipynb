{
 "cells": [
  {
   "cell_type": "markdown",
   "id": "829e5193",
   "metadata": {},
   "source": [
    "### Assignment-06 (Exceptions)\n",
    "- Change the notebook name with your name and Roll Number.\n",
    "- Try this as your own, no chatgpt (it's for your learning)\n",
    "- after completing the assignment, submit this book on google class room."
   ]
  },
  {
   "cell_type": "markdown",
   "id": "5020de16",
   "metadata": {},
   "source": [
    "Write a Python program that demonstrates a simple try-except block to handle a ZeroDivisionError."
   ]
  },
  {
   "cell_type": "code",
   "execution_count": 1,
   "id": "b2481e98",
   "metadata": {},
   "outputs": [
    {
     "name": "stdout",
     "output_type": "stream",
     "text": [
      "Result of division: 5.0\n",
      "Error: Cannot divide by zero.\n"
     ]
    }
   ],
   "source": [
    "def divide_numbers(a, b):\n",
    "    try:\n",
    "        result = a / b\n",
    "        print(\"Result of division:\", result)\n",
    "    except ZeroDivisionError:\n",
    "        print(\"Error: Cannot divide by zero.\")\n",
    "\n",
    "try:\n",
    "    divide_numbers(10, 2)  \n",
    "    divide_numbers(10, 0)  \n",
    "except Exception as e:\n",
    "    print(\"An error occurred:\", e)\n",
    "\n"
   ]
  },
  {
   "cell_type": "markdown",
   "id": "510c0b9e",
   "metadata": {},
   "source": [
    "What is the purpose of the else clause in a try-except block? Provide an example."
   ]
  },
  {
   "cell_type": "code",
   "execution_count": 2,
   "id": "19e00491",
   "metadata": {},
   "outputs": [],
   "source": [
    "''' The 'else' clause in a try-except block is used to specify a block of code that should be executed if no exceptions are raised within the try block. This can be useful when you want to differentiate between the code that is executed when an exception occurs and when it doesn't.'''\n",
    "def divide_numbers(a, b):\n",
    "    try:\n",
    "        result = a / b\n",
    "    except ZeroDivisionError:\n",
    "        print(\"Error: Cannot divide by zero.\")\n",
    "    else:\n",
    "        print(\"Result of division:\", result)\n",
    "\n",
    "divide_numbers(10, 2)  \n",
    "divide_numbers(10, 0)  \n"
   ]
  },
  {
   "cell_type": "markdown",
   "id": "213e8438",
   "metadata": {},
   "source": [
    "Explain the role of the finally keyword in exception handling. Write a code snippet to demonstrate its use."
   ]
  },
  {
   "cell_type": "code",
   "execution_count": null,
   "id": "4f6335f4",
   "metadata": {},
   "outputs": [],
   "source": [
    "'''The 'finally' keyword in exception handling is used to define a block of code that will always be executed, regardless of whether an exception occurred or not. It's typically used to perform cleanup operations or release resources that were acquired in the try block, ensuring that the cleanup code runs even if an exception occurs.'''\n",
    "def divide_numbers(a, b):\n",
    "    try:\n",
    "        result = a / b\n",
    "        print(\"Result of division:\", result)\n",
    "    except ZeroDivisionError:\n",
    "        print(\"Error: Cannot divide by zero.\")\n",
    "    finally:\n",
    "        print(\"Division operation completed.\")\n",
    "\n",
    "divide_numbers(10, 2)  \n",
    "print(\"----\")\n",
    "divide_numbers(10, 0)  \n",
    "\n"
   ]
  },
  {
   "cell_type": "markdown",
   "id": "28a825cd",
   "metadata": {},
   "source": [
    "Write a program that uses a try-except block to handle a FileNotFoundError."
   ]
  },
  {
   "cell_type": "code",
   "execution_count": 1,
   "id": "a40b08be",
   "metadata": {},
   "outputs": [
    {
     "name": "stdout",
     "output_type": "stream",
     "text": [
      "Error: The specified file could not be found.\n"
     ]
    }
   ],
   "source": [
    "try:\n",
    "    with open(\"nonexistent_file.txt\", \"r\") as file:\n",
    "        contents = file.read()\n",
    "        print(contents)\n",
    "except FileNotFoundError:\n",
    "    print(\"Error: The specified file could not be found.\")\n"
   ]
  },
  {
   "cell_type": "markdown",
   "id": "b518674e",
   "metadata": {},
   "source": [
    "Create a Python program that uses multiple except clauses to handle different types of exceptions."
   ]
  },
  {
   "cell_type": "code",
   "execution_count": 1,
   "id": "11a3e481",
   "metadata": {},
   "outputs": [
    {
     "name": "stdout",
     "output_type": "stream",
     "text": [
      "Result of division: 5.0\n",
      "Error: Cannot divide by zero.\n",
      "Error: Index out of range.\n",
      "Result of multiplication: 10\n",
      "Error: Invalid operation specified.\n"
     ]
    }
   ],
   "source": [
    "def perform_operation(x, y, operation):\n",
    "    try:\n",
    "        if operation == 'divide':\n",
    "            result = x / y\n",
    "            print(\"Result of division:\", result)\n",
    "        elif operation == 'multiply':\n",
    "            result = x * y\n",
    "            print(\"Result of multiplication:\", result)\n",
    "        elif operation == 'index':\n",
    "            value = x[y]\n",
    "            print(\"Value at index\", y, \":\", value)\n",
    "        else:\n",
    "            raise ValueError(\"Invalid operation specified.\")\n",
    "    except ZeroDivisionError:\n",
    "        print(\"Error: Cannot divide by zero.\")\n",
    "    except IndexError:\n",
    "        print(\"Error: Index out of range.\")\n",
    "    except ValueError as ve:\n",
    "        print(\"Error:\", ve)\n",
    "\n",
    "perform_operation(10, 2, 'divide')  \n",
    "perform_operation(10, 0, 'divide')  \n",
    "perform_operation([1, 2, 3], 5, 'index')  \n",
    "perform_operation(5, 2, 'multiply')  \n",
    "perform_operation(10, 2, 'invalid')  \n",
    "\n"
   ]
  },
  {
   "cell_type": "markdown",
   "id": "37c93388",
   "metadata": {},
   "source": [
    "Implement a function that raises a custom exception if a given number is negative."
   ]
  },
  {
   "cell_type": "code",
   "execution_count": 2,
   "id": "09a7a16a",
   "metadata": {},
   "outputs": [
    {
     "name": "stdout",
     "output_type": "stream",
     "text": [
      "Number is positive: 10\n",
      "Error: Negative number encountered: -5\n"
     ]
    }
   ],
   "source": [
    "class NegativeNumberError(Exception):\n",
    "    \"\"\"Custom exception raised when a negative number is encountered.\"\"\"\n",
    "\n",
    "    def __init__(self, number):\n",
    "        self.number = number\n",
    "\n",
    "    def __str__(self):\n",
    "        return f\"Error: Negative number encountered: {self.number}\"\n",
    "\n",
    "\n",
    "def check_positive_number(number):\n",
    "    if number < 0:\n",
    "        raise NegativeNumberError(number)\n",
    "    else:\n",
    "        print(\"Number is positive:\", number)\n",
    "\n",
    "\n",
    "try:\n",
    "    check_positive_number(10)  \n",
    "    check_positive_number(-5)  \n",
    "except NegativeNumberError as e:\n",
    "    print(e)\n",
    "\n"
   ]
  },
  {
   "cell_type": "markdown",
   "id": "28762688",
   "metadata": {},
   "source": [
    "Write a function that uses the assert keyword to check if a given list is not empty."
   ]
  },
  {
   "cell_type": "code",
   "execution_count": 3,
   "id": "348bbe48",
   "metadata": {},
   "outputs": [
    {
     "name": "stdout",
     "output_type": "stream",
     "text": [
      "The list is not empty.\n"
     ]
    },
    {
     "ename": "AssertionError",
     "evalue": "Error: The list is empty.",
     "output_type": "error",
     "traceback": [
      "\u001b[1;31m---------------------------------------------------------------------------\u001b[0m",
      "\u001b[1;31mAssertionError\u001b[0m                            Traceback (most recent call last)",
      "Cell \u001b[1;32mIn[3], line 8\u001b[0m\n\u001b[0;32m      6\u001b[0m \u001b[38;5;66;03m# Example usage\u001b[39;00m\n\u001b[0;32m      7\u001b[0m check_non_empty_list([\u001b[38;5;241m1\u001b[39m, \u001b[38;5;241m2\u001b[39m, \u001b[38;5;241m3\u001b[39m])  \u001b[38;5;66;03m# No error, list is not empty\u001b[39;00m\n\u001b[1;32m----> 8\u001b[0m \u001b[43mcheck_non_empty_list\u001b[49m\u001b[43m(\u001b[49m\u001b[43m[\u001b[49m\u001b[43m]\u001b[49m\u001b[43m)\u001b[49m         \u001b[38;5;66;03m# Raises AssertionError\u001b[39;00m\n",
      "Cell \u001b[1;32mIn[3], line 2\u001b[0m, in \u001b[0;36mcheck_non_empty_list\u001b[1;34m(input_list)\u001b[0m\n\u001b[0;32m      1\u001b[0m \u001b[38;5;28;01mdef\u001b[39;00m \u001b[38;5;21mcheck_non_empty_list\u001b[39m(input_list):\n\u001b[1;32m----> 2\u001b[0m     \u001b[38;5;28;01massert\u001b[39;00m \u001b[38;5;28mlen\u001b[39m(input_list) \u001b[38;5;241m>\u001b[39m \u001b[38;5;241m0\u001b[39m, \u001b[38;5;124m\"\u001b[39m\u001b[38;5;124mError: The list is empty.\u001b[39m\u001b[38;5;124m\"\u001b[39m\n\u001b[0;32m      3\u001b[0m     \u001b[38;5;28mprint\u001b[39m(\u001b[38;5;124m\"\u001b[39m\u001b[38;5;124mThe list is not empty.\u001b[39m\u001b[38;5;124m\"\u001b[39m)\n",
      "\u001b[1;31mAssertionError\u001b[0m: Error: The list is empty."
     ]
    }
   ],
   "source": [
    "def check_non_empty_list(input_list):\n",
    "    assert len(input_list) > 0, \"Error: The list is empty.\"\n",
    "    print(\"The list is not empty.\")\n",
    "\n",
    "\n",
    "check_non_empty_list([1, 2, 3]) \n",
    "check_non_empty_list([])         \n"
   ]
  },
  {
   "cell_type": "markdown",
   "id": "f7861e8d",
   "metadata": {},
   "source": [
    "Develop a program that reads two numbers from the user and divides them. Handle different exceptions such as ZeroDivisionError and ValueError."
   ]
  },
  {
   "cell_type": "code",
   "execution_count": null,
   "id": "ef8f7f27",
   "metadata": {},
   "outputs": [],
   "source": [
    "def divide_numbers():\n",
    "    try:\n",
    "        num1 = float(input(\"Enter the first number: \"))\n",
    "        num2 = float(input(\"Enter the second number: \"))\n",
    "        result = num1 / num2\n",
    "        print(\"Result of division:\", result)\n",
    "\n",
    "    except ValueError:\n",
    "        print(\"Error: Please enter valid numeric values.\")\n",
    "    except ZeroDivisionError:\n",
    "        print(\"Error: Cannot divide by zero.\")\n",
    "    except Exception as e:\n",
    "        print(\"An error occurred:\", e)\n",
    "\n",
    "\n",
    "divide_numbers()\n",
    "\n",
    "\n"
   ]
  },
  {
   "cell_type": "markdown",
   "id": "4a043e90",
   "metadata": {},
   "source": [
    "Write a function that takes a string as input and converts it to an integer. Handle the ValueError exception."
   ]
  },
  {
   "cell_type": "code",
   "execution_count": null,
   "id": "273b88df",
   "metadata": {},
   "outputs": [],
   "source": [
    "def convert_to_integer(string):\n",
    "    try:\n",
    "        integer_value = int(string)\n",
    "        return integer_value\n",
    "    except ValueError:\n",
    "        print(\"Error: Invalid input. Please enter a valid integer.\")\n",
    "        return None\n",
    "\n",
    "user_input = input(\"Enter a string to convert to an integer: \")\n",
    "result = convert_to_integer(user_input)\n",
    "if result is not None:\n",
    "    print(\"Integer value:\", result)\n"
   ]
  },
  {
   "cell_type": "markdown",
   "id": "e09663a8",
   "metadata": {},
   "source": [
    "Create a program that uses the try, except, else, and finally blocks to open a file, read its contents, and print them."
   ]
  },
  {
   "cell_type": "code",
   "execution_count": null,
   "id": "5f7daa25",
   "metadata": {},
   "outputs": [],
   "source": [
    "def read_file(filename):\n",
    "    try:\n",
    "        file = open(filename, \"r\")\n",
    "    except FileNotFoundError:\n",
    "        print(\"Error: File not found.\")\n",
    "    except Exception as e:\n",
    "        print(\"An unexpected error occurred:\", e)\n",
    "    else:\n",
    "        try:\n",
    "            contents = file.read()\n",
    "            print(\"Contents of the file:\")\n",
    "            print(contents)\n",
    "        except Exception as e:\n",
    "            print(\"An unexpected error occurred while reading the file:\", e)\n",
    "        finally:\n",
    "            file.close()\n",
    "filename = input(\"Enter the filename: \")\n",
    "read_file(filename)\n"
   ]
  },
  {
   "cell_type": "markdown",
   "id": "2f976b31",
   "metadata": {},
   "source": [
    "Define a custom exception class named CustomError. Write a program that raises this exception when a certain condition is met."
   ]
  },
  {
   "cell_type": "code",
   "execution_count": null,
   "id": "58b2c87a",
   "metadata": {},
   "outputs": [],
   "source": [
    "class CustomError(Exception):\n",
    "    \"\"\"Custom exception class.\"\"\"\n",
    "    pass\n",
    "\n",
    "def check_condition(value):\n",
    "    \"\"\"Function to check a condition and raise CustomError if met.\"\"\"\n",
    "    if value < 0:\n",
    "        raise CustomError(\"The condition is met: value is negative.\")\n",
    "try:\n",
    "    num = int(input(\"Enter a number: \"))\n",
    "    check_condition(num)\n",
    "except ValueError:\n",
    "    print(\"Error: Invalid input. Please enter an integer.\")\n",
    "except CustomError as e:\n",
    "    print(\"CustomError:\", e)\n"
   ]
  },
  {
   "cell_type": "markdown",
   "id": "4718ee7b",
   "metadata": {},
   "source": [
    "Implement a function that reads a file and prints its content. If the file is not found, raise a FileNotFoundError with a custom error message."
   ]
  },
  {
   "cell_type": "code",
   "execution_count": null,
   "id": "7d65d3f0",
   "metadata": {},
   "outputs": [],
   "source": [
    "def read_and_print_file(filename):\n",
    "    try:\n",
    "        with open(filename, \"r\") as file:\n",
    "            contents = file.read()\n",
    "            print(\"Contents of the file:\")\n",
    "            print(contents)\n",
    "    except FileNotFoundError:\n",
    "        raise FileNotFoundError(f\"Error: File '{filename}' not found.\")\n",
    "    except Exception as e:\n",
    "        print(\"An unexpected error occurred:\", e)\n",
    "try:\n",
    "    filename = input(\"Enter the filename: \")\n",
    "    read_and_print_file(filename)\n",
    "except FileNotFoundError as e:\n",
    "    print(e)\n"
   ]
  },
  {
   "cell_type": "markdown",
   "id": "368cfff7",
   "metadata": {},
   "source": [
    "Develop a program that uses the assert keyword to check if a given number is positive. If not, raise an AssertionError with a custom message."
   ]
  },
  {
   "cell_type": "code",
   "execution_count": null,
   "id": "dffe1621",
   "metadata": {},
   "outputs": [],
   "source": [
    "def check_positive(number):\n",
    "    \"\"\"Function to check if a number is positive.\"\"\"\n",
    "    assert number > 0, f\"Error: Number {number} is not positive.\"\n",
    "try:\n",
    "    num = float(input(\"Enter a number: \"))\n",
    "    check_positive(num)\n",
    "except ValueError:\n",
    "    print(\"Error: Invalid input. Please enter a numeric value.\")\n",
    "except AssertionError as e:\n",
    "    print(e)\n"
   ]
  },
  {
   "cell_type": "markdown",
   "id": "93fd3391",
   "metadata": {},
   "source": [
    "Create a function that calculates the square root of a positive number. Handle the ValueError exception if the user enters a negative number."
   ]
  },
  {
   "cell_type": "code",
   "execution_count": null,
   "id": "33c71719",
   "metadata": {},
   "outputs": [],
   "source": [
    "import math\n",
    "\n",
    "def calculate_square_root(number):\n",
    "    \"\"\"Function to calculate the square root of a positive number.\"\"\"\n",
    "    try:\n",
    "        if number < 0:\n",
    "            raise ValueError(\"Error: Negative number entered.\")\n",
    "        else:\n",
    "            result = math.sqrt(number)\n",
    "            print(f\"The square root of {number} is: {result}\")\n",
    "    except ValueError as e:\n",
    "        print(e)\n",
    "try:\n",
    "    num = float(input(\"Enter a number: \"))\n",
    "    calculate_square_root(num)\n",
    "except ValueError:\n",
    "    print(\"Error: Invalid input. Please enter a numeric value.\")\n"
   ]
  }
 ],
 "metadata": {
  "kernelspec": {
   "display_name": "Python 3 (ipykernel)",
   "language": "python",
   "name": "python3"
  },
  "language_info": {
   "codemirror_mode": {
    "name": "ipython",
    "version": 3
   },
   "file_extension": ".py",
   "mimetype": "text/x-python",
   "name": "python",
   "nbconvert_exporter": "python",
   "pygments_lexer": "ipython3",
   "version": "3.10.0"
  }
 },
 "nbformat": 4,
 "nbformat_minor": 5
}
