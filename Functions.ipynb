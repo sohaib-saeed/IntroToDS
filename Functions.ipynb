{
 "cells": [
  {
   "cell_type": "markdown",
   "id": "292d70c6",
   "metadata": {},
   "source": [
    "### Assignment-05 (Functions)\n",
    "- Change the notebook name with your name and Roll Number.\n",
    "- Try this as your own, no chatgpt (it's for your learning)\n",
    "- after completing the assignment, submit this book on google class room."
   ]
  },
  {
   "cell_type": "markdown",
   "id": "a78a8d1f",
   "metadata": {},
   "source": [
    "Write a function named add_numbers that takes two parameters and returns their sum."
   ]
  },
  {
   "cell_type": "code",
   "execution_count": 83,
   "id": "ecc43aae",
   "metadata": {},
   "outputs": [],
   "source": [
    "def add_numbers(num_1,num_2):\n",
    "    return num_1 + num_2"
   ]
  },
  {
   "cell_type": "markdown",
   "id": "b8557bc1",
   "metadata": {},
   "source": [
    "Define a function calculate_area to compute the area of a rectangle given its length and width."
   ]
  },
  {
   "cell_type": "code",
   "execution_count": 84,
   "id": "5da1bce6",
   "metadata": {},
   "outputs": [],
   "source": [
    "def calculate_area(length, width):\n",
    "    return length * width"
   ]
  },
  {
   "cell_type": "markdown",
   "id": "ced07c44",
   "metadata": {},
   "source": [
    "Add a docstring to the calculate_area function explaining its purpose."
   ]
  },
  {
   "cell_type": "code",
   "execution_count": 85,
   "id": "a5a19740",
   "metadata": {},
   "outputs": [
    {
     "data": {
      "text/plain": [
       "' The basic purpose of calculate_area function\\nis to calculate the area of the rectangle.'"
      ]
     },
     "execution_count": 85,
     "metadata": {},
     "output_type": "execute_result"
    }
   ],
   "source": [
    "\"\"\" The basic purpose of calculate_area function\n",
    "is to calculate the area of the rectangle.\"\"\""
   ]
  },
  {
   "cell_type": "markdown",
   "id": "eaa57b3d",
   "metadata": {},
   "source": [
    "Create a function print_greeting that takes a name as an argument and prints a personalized greeting.\n"
   ]
  },
  {
   "cell_type": "code",
   "execution_count": 86,
   "id": "134dff75",
   "metadata": {},
   "outputs": [
    {
     "name": "stdout",
     "output_type": "stream",
     "text": [
      "Hello Sohaib!\n"
     ]
    }
   ],
   "source": [
    "def print_greeting(name):\n",
    "    print(f\"Hello {name}!\")\n",
    "def main():\n",
    "    name = \"Sohaib\"\n",
    "    print_greeting(name)\n",
    "main()"
   ]
  },
  {
   "cell_type": "markdown",
   "id": "a9226488",
   "metadata": {},
   "source": [
    "Write a function is_prime that checks if a given number is prime.\n"
   ]
  },
  {
   "cell_type": "code",
   "execution_count": 87,
   "id": "787f0b36",
   "metadata": {},
   "outputs": [],
   "source": [
    "def is_prime(n):\n",
    "    if n <= 1:\n",
    "        return False\n",
    "    elif n <= 3:\n",
    "        return True\n",
    "    elif n % 2 == 0 or n % 3 == 0:\n",
    "        return False\n",
    "    i = 5\n",
    "    while i * i <= n:\n",
    "        if n % i == 0 or n % (i + 2) == 0:\n",
    "            return False\n",
    "        i += 6\n",
    "    return True"
   ]
  },
  {
   "cell_type": "markdown",
   "id": "9b526fa5",
   "metadata": {},
   "source": [
    "Implement a function factorial to calculate the factorial of a given number.\n"
   ]
  },
  {
   "cell_type": "code",
   "execution_count": 88,
   "id": "800a23c7",
   "metadata": {},
   "outputs": [
    {
     "name": "stdout",
     "output_type": "stream",
     "text": [
      "120\n"
     ]
    }
   ],
   "source": [
    "def Factorial(num):\n",
    "    if num == 0 or num == 1:\n",
    "        return 1\n",
    "    return num * Factorial(num - 1) \n",
    "def main():\n",
    "    num = 5\n",
    "    print(Factorial(num))\n",
    "main()"
   ]
  },
  {
   "cell_type": "markdown",
   "id": "96ca84b5",
   "metadata": {},
   "source": [
    "Create a function print_pattern to print a specific pattern of stars."
   ]
  },
  {
   "cell_type": "code",
   "execution_count": 89,
   "id": "3239542e",
   "metadata": {},
   "outputs": [
    {
     "name": "stdout",
     "output_type": "stream",
     "text": [
      "**********\n",
      "**********\n",
      "**********\n",
      "**********\n",
      "**********\n"
     ]
    }
   ],
   "source": [
    "def print_stars(num):\n",
    "    for i in range(num):\n",
    "        for j in range(num):\n",
    "            print(\"*\" * j,end=\"\")\n",
    "        print()\n",
    "def main():\n",
    "    num = 5\n",
    "    print_stars(num)\n",
    "main()"
   ]
  },
  {
   "cell_type": "markdown",
   "id": "dd5ace57",
   "metadata": {},
   "source": [
    "Write a function multiply_numbers with default values for its parameters."
   ]
  },
  {
   "cell_type": "code",
   "execution_count": 90,
   "id": "9165cb2a",
   "metadata": {},
   "outputs": [],
   "source": [
    "def multiply_numbers(num_1 = 5, num_2 = 6):\n",
    "    return num_1 * num_2\n",
    "\n"
   ]
  },
  {
   "cell_type": "markdown",
   "id": "7cd00e34",
   "metadata": {},
   "source": [
    "Define a function print_info that takes a variable number of arguments and prints them.\n"
   ]
  },
  {
   "cell_type": "code",
   "execution_count": 91,
   "id": "e8b03ed1",
   "metadata": {},
   "outputs": [
    {
     "name": "stdout",
     "output_type": "stream",
     "text": [
      "Hello\n",
      "world\n",
      "2024\n",
      "[1, 2, 3]\n"
     ]
    }
   ],
   "source": [
    "def print_info(*args):\n",
    "    for arg in args:\n",
    "        print(arg)\n",
    "\n",
    "print_info(\"Hello\", \"world\", 2024, [1, 2, 3])"
   ]
  },
  {
   "cell_type": "markdown",
   "id": "21006c9c",
   "metadata": {},
   "source": [
    "Create a function power_of_two that accepts a number and returns its square.\n"
   ]
  },
  {
   "cell_type": "code",
   "execution_count": 92,
   "id": "ee003f0d",
   "metadata": {},
   "outputs": [
    {
     "name": "stdout",
     "output_type": "stream",
     "text": [
      "4\n"
     ]
    }
   ],
   "source": [
    "def power_of_two(num):\n",
    "    return (num ** 2)\n",
    "def main():\n",
    "    num = 2\n",
    "    print(power_of_two(num))\n",
    "main()"
   ]
  },
  {
   "cell_type": "markdown",
   "id": "8aca7c5d",
   "metadata": {},
   "source": [
    "Define a variable inside a function and try to access it outside the function."
   ]
  },
  {
   "cell_type": "code",
   "execution_count": 93,
   "id": "1eecf2cb",
   "metadata": {},
   "outputs": [
    {
     "name": "stdout",
     "output_type": "stream",
     "text": [
      "Sohaib Saeed\n"
     ]
    }
   ],
   "source": [
    "def Function():\n",
    "    name = \"Sohaib\"\n",
    "Function()\n",
    "print(name)"
   ]
  },
  {
   "cell_type": "markdown",
   "id": "27ef8bea",
   "metadata": {},
   "source": [
    "Write a function that uses a variable from the enclosing scope."
   ]
  },
  {
   "cell_type": "code",
   "execution_count": 94,
   "id": "cf7f3658",
   "metadata": {},
   "outputs": [
    {
     "name": "stdout",
     "output_type": "stream",
     "text": [
      "Inside inner function: I am defined in the outer function.\n"
     ]
    }
   ],
   "source": [
    "def outer_function():\n",
    "    outer_variable = \"I am defined in the outer function.\"\n",
    "    def inner_function():\n",
    "        print(\"Inside inner function:\", outer_variable)\n",
    "    inner_function()\n",
    "outer_function()\n"
   ]
  },
  {
   "cell_type": "markdown",
   "id": "e4bc1865",
   "metadata": {},
   "source": [
    "Create a global variable and modify it inside a function."
   ]
  },
  {
   "cell_type": "code",
   "execution_count": 95,
   "id": "16466e1d",
   "metadata": {},
   "outputs": [
    {
     "name": "stdout",
     "output_type": "stream",
     "text": [
      "Sohaib Saeed\n"
     ]
    }
   ],
   "source": [
    "name = \"Sohaib Saeed\"\n",
    "def Function():\n",
    "    print(name)\n",
    "Function()"
   ]
  },
  {
   "cell_type": "markdown",
   "id": "05e33835",
   "metadata": {},
   "source": [
    "Write a lambda function to calculate the cube of a number."
   ]
  },
  {
   "cell_type": "code",
   "execution_count": 96,
   "id": "a1066910",
   "metadata": {},
   "outputs": [],
   "source": [
    "cube = lambda num: num ** 3 \n"
   ]
  },
  {
   "cell_type": "markdown",
   "id": "835f805c",
   "metadata": {},
   "source": [
    "Use a lambda function as an argument with the map function."
   ]
  },
  {
   "cell_type": "code",
   "execution_count": 97,
   "id": "2c18968f",
   "metadata": {},
   "outputs": [],
   "source": [
    "cube = lambda num: num ** 3 \n",
    "new = map(cube,[1,2,3,4,5])"
   ]
  },
  {
   "cell_type": "markdown",
   "id": "afd4b510",
   "metadata": {},
   "source": [
    "Use a lambda function with the filter function to filter even numbers from a list."
   ]
  },
  {
   "cell_type": "code",
   "execution_count": 98,
   "id": "8b02f236",
   "metadata": {},
   "outputs": [
    {
     "name": "stdout",
     "output_type": "stream",
     "text": [
      "[2, 4, 6, 8, 10]\n"
     ]
    }
   ],
   "source": [
    "even = lambda x: x % 2 == 0\n",
    "print(list(filter(even,[1,2,3,4,5,6,7,8,9,10])))"
   ]
  },
  {
   "cell_type": "markdown",
   "id": "3b36cb84",
   "metadata": {},
   "source": [
    "Apply a lambda function with the reduce function to find the product of a list."
   ]
  },
  {
   "cell_type": "code",
   "execution_count": 99,
   "id": "a5d035b3",
   "metadata": {},
   "outputs": [
    {
     "name": "stdout",
     "output_type": "stream",
     "text": [
      "120\n"
     ]
    }
   ],
   "source": [
    "import functools\n",
    "numbers = [1,2,3,4,5]\n",
    "prod = lambda x,y: x * y\n",
    "print(functools.reduce(prod,numbers))\n"
   ]
  },
  {
   "cell_type": "markdown",
   "id": "1462df0e",
   "metadata": {},
   "source": [
    "Sort a list of tuples based on the second element using a lambda function."
   ]
  },
  {
   "cell_type": "code",
   "execution_count": 100,
   "id": "74e28382",
   "metadata": {},
   "outputs": [
    {
     "data": {
      "text/plain": [
       "[(1, 4), (3, 4), (5, 6)]"
      ]
     },
     "execution_count": 100,
     "metadata": {},
     "output_type": "execute_result"
    }
   ],
   "source": [
    "numbers = [(1,4),(3,4),(5,6)]\n",
    "result = sorted(numbers, key=lambda x: x[1])\n",
    "result"
   ]
  },
  {
   "cell_type": "markdown",
   "id": "c0978a54",
   "metadata": {},
   "source": [
    "Demonstrate the use of the zip function with two lists."
   ]
  },
  {
   "cell_type": "code",
   "execution_count": 101,
   "id": "9d41c722",
   "metadata": {},
   "outputs": [
    {
     "data": {
      "text/plain": [
       "[(1, 'a'), (2, 'b'), (3, 'c'), (4, 'd')]"
      ]
     },
     "execution_count": 101,
     "metadata": {},
     "output_type": "execute_result"
    }
   ],
   "source": [
    "list_1 = [1,2,3,4,5]\n",
    "list_2 = ['a','b','c','d']\n",
    "new = zip(list_1,list_2)\n",
    "list(new)"
   ]
  },
  {
   "cell_type": "markdown",
   "id": "00d634fa",
   "metadata": {},
   "source": [
    "Implement a generator function that generates Fibonacci numbers."
   ]
  },
  {
   "cell_type": "code",
   "execution_count": 102,
   "id": "6cd6a877",
   "metadata": {},
   "outputs": [
    {
     "name": "stdout",
     "output_type": "stream",
     "text": [
      "0\n",
      "1\n",
      "1\n",
      "2\n",
      "3\n",
      "5\n",
      "8\n",
      "13\n",
      "21\n",
      "34\n"
     ]
    }
   ],
   "source": [
    "def fibonacci_generator():\n",
    "    a, b = 0, 1\n",
    "    while True:\n",
    "        yield a \n",
    "        a, b = b, a + b \n",
    "fibonacci = fibonacci_generator()\n",
    "for _ in range(10):\n",
    "    print(next(fibonacci))"
   ]
  },
  {
   "cell_type": "markdown",
   "id": "cfdbada2",
   "metadata": {},
   "source": [
    "Use a generator expression to create a sequence of squares."
   ]
  },
  {
   "cell_type": "code",
   "execution_count": 103,
   "id": "8261d6f6",
   "metadata": {},
   "outputs": [
    {
     "name": "stdout",
     "output_type": "stream",
     "text": [
      "1\n",
      "4\n",
      "9\n",
      "16\n",
      "25\n",
      "36\n",
      "49\n",
      "64\n",
      "81\n",
      "100\n"
     ]
    }
   ],
   "source": [
    "squares = (i ** 2 for i in range(1, 11))\n",
    "for square in squares:\n",
    "    print(square)"
   ]
  },
  {
   "cell_type": "markdown",
   "id": "c1732ffe",
   "metadata": {},
   "source": [
    "Write a function that uses the yield statement to produce a generator."
   ]
  },
  {
   "cell_type": "code",
   "execution_count": 104,
   "id": "77d601a1",
   "metadata": {},
   "outputs": [],
   "source": [
    "def Even_generator(num):\n",
    "    for num in range(num + 1):\n",
    "        if num % 2 == 0:\n",
    "            yield num\n",
    "    \n"
   ]
  },
  {
   "cell_type": "markdown",
   "id": "413bf1e2",
   "metadata": {},
   "source": [
    "Explain the difference between iterators and generators in Python."
   ]
  },
  {
   "cell_type": "code",
   "execution_count": 105,
   "id": "8b944f0e",
   "metadata": {},
   "outputs": [
    {
     "data": {
      "text/plain": [
       "'Iterators:\\nIterators are objects with a __next__() method.\\nThey provide a low-level interface for iterating over elements one by one.\\nCreated using the iter() function or by implementing the iterator protocol.\\n\\nGenerators:\\nGenerators are functions with one or more yield statements.\\nThey produce values lazily as they are needed.\\nAutomatically implement the iterator protocol.\\nMore concise and readable compared to iterators implemented using classes.'"
      ]
     },
     "execution_count": 105,
     "metadata": {},
     "output_type": "execute_result"
    }
   ],
   "source": [
    "\"\"\"Iterators:\n",
    "Iterators are objects with a __next__() method.\n",
    "They provide a low-level interface for iterating over elements one by one.\n",
    "Created using the iter() function or by implementing the iterator protocol.\n",
    "\n",
    "Generators:\n",
    "Generators are functions with one or more yield statements.\n",
    "They produce values lazily as they are needed.\n",
    "Automatically implement the iterator protocol.\n",
    "More concise and readable compared to iterators implemented using classes.\"\"\""
   ]
  },
  {
   "cell_type": "markdown",
   "id": "0d59b556",
   "metadata": {},
   "source": [
    "Write a Python program that includes a nested function. Inside the nested function, access a variable from the enclosing function's scope, and explain how the scope resolution works in this case."
   ]
  },
  {
   "cell_type": "code",
   "execution_count": 106,
   "id": "992f17dd",
   "metadata": {},
   "outputs": [
    {
     "name": "stdout",
     "output_type": "stream",
     "text": [
      "Accessing variable from outer function's scope: I'm from the outer function's scope\n"
     ]
    }
   ],
   "source": [
    "def outer_function():\n",
    "    outer_variable = \"I'm from the outer function's scope\"\n",
    "    def inner_function():\n",
    "        print(\"Accessing variable from outer function's scope:\", outer_variable)\n",
    "    inner_function()\n",
    "outer_function()\n"
   ]
  },
  {
   "cell_type": "markdown",
   "id": "a945086c",
   "metadata": {},
   "source": [
    "Create a list of strings containing both uppercase and lowercase words. Use a lambda function with the sorted() function to sort the list in a case-insensitive manner."
   ]
  },
  {
   "cell_type": "code",
   "execution_count": 107,
   "id": "d6445a64",
   "metadata": {},
   "outputs": [
    {
     "name": "stdout",
     "output_type": "stream",
     "text": [
      "['Apple', 'banana', 'grape', 'kiwi', 'Orange', 'Peach']\n"
     ]
    }
   ],
   "source": [
    "words = [\"Apple\", \"banana\", \"Orange\", \"grape\", \"Peach\", \"kiwi\"]\n",
    "sorted_words = sorted(words, key=lambda x: x.lower())\n",
    "print(sorted_words)\n"
   ]
  },
  {
   "cell_type": "markdown",
   "id": "9b5aa572",
   "metadata": {},
   "source": [
    "Implement a generator function that yields prime numbers indefinitely. Use this generator to print the first 10 prime numbers."
   ]
  },
  {
   "cell_type": "code",
   "execution_count": 108,
   "id": "86f1ead1",
   "metadata": {},
   "outputs": [],
   "source": [
    "def generate_primes():\n",
    "    primes = {}\n",
    "    num = 2\n",
    "    while True:\n",
    "        if num not in primes:\n",
    "            yield num\n",
    "            primes[num * num] = [num]\n",
    "        else:\n",
    "            for p in primes[num]:\n",
    "                primes.setdefault(num + p, []).append(p)\n",
    "            del primes[num]\n",
    "        num += 1\n",
    "\n"
   ]
  },
  {
   "cell_type": "markdown",
   "id": "e3b956a8",
   "metadata": {},
   "source": [
    "Write a decorator function that measures the execution time of another function. Apply this decorator to a function of your choice and print the execution time."
   ]
  },
  {
   "cell_type": "code",
   "execution_count": 109,
   "id": "ebbab120",
   "metadata": {},
   "outputs": [],
   "source": [
    "import time\n",
    "from functools import wraps\n",
    "def measure_execution_time(func):\n",
    "    @wraps(func)\n",
    "    def wrapper(*args, **kwargs):\n",
    "        start_time = time.time()\n",
    "        result = func(*args, **kwargs)\n",
    "        end_time = time.time()\n",
    "        execution_time = end_time - start_time\n",
    "        print(f\"Execution time of {func.__name__}: {execution_time} seconds\")\n",
    "        return result\n",
    "    return wrapper\n",
    "\n"
   ]
  }
 ],
 "metadata": {
  "kernelspec": {
   "display_name": "Python 3 (ipykernel)",
   "language": "python",
   "name": "python3"
  },
  "language_info": {
   "codemirror_mode": {
    "name": "ipython",
    "version": 3
   },
   "file_extension": ".py",
   "mimetype": "text/x-python",
   "name": "python",
   "nbconvert_exporter": "python",
   "pygments_lexer": "ipython3",
   "version": "3.10.0"
  }
 },
 "nbformat": 4,
 "nbformat_minor": 5
}
