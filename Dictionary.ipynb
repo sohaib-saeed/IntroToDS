{
 "cells": [
  {
   "cell_type": "markdown",
   "id": "d3b1242a",
   "metadata": {},
   "source": [
    "### Assignment-02 (DICTIONARY)\n",
    "- Change the notebook name with your name and Roll Number.\n",
    "- Try this as your own, no chatgpt (it's for your learning)\n",
    "- after completing the assignment, submit this book on google class room."
   ]
  },
  {
   "cell_type": "markdown",
   "id": "3079cae1",
   "metadata": {},
   "source": [
    "    Create an empty dictionary and print it.\n"
   ]
  },
  {
   "cell_type": "code",
   "execution_count": 37,
   "id": "1e0b1c0d",
   "metadata": {},
   "outputs": [
    {
     "data": {
      "text/plain": [
       "{}"
      ]
     },
     "execution_count": 37,
     "metadata": {},
     "output_type": "execute_result"
    }
   ],
   "source": [
    "my_dict = {}\n",
    "my_dict"
   ]
  },
  {
   "cell_type": "markdown",
   "id": "c02f03e9",
   "metadata": {},
   "source": [
    "    Create a dictionary representing a person with keys such as 'name', 'age', and 'city'.\n"
   ]
  },
  {
   "cell_type": "code",
   "execution_count": 38,
   "id": "1c55f8a0",
   "metadata": {},
   "outputs": [
    {
     "data": {
      "text/plain": [
       "{'Name': 'Sohaib', 'Age': 28, 'City': 'Lahore'}"
      ]
     },
     "execution_count": 38,
     "metadata": {},
     "output_type": "execute_result"
    }
   ],
   "source": [
    "person = {\"Name\":\"Sohaib\",\"Age\": 28, \"City\": \"Lahore\"}\n",
    "person"
   ]
  },
  {
   "cell_type": "markdown",
   "id": "3de2a866",
   "metadata": {},
   "source": [
    "    Create a dictionary that includes keys with different data types (strings, integers)."
   ]
  },
  {
   "cell_type": "code",
   "execution_count": 39,
   "id": "89c0b2ee",
   "metadata": {},
   "outputs": [
    {
     "data": {
      "text/plain": [
       "{'Name': 'Sohaib', 'Age': 28, 'City': 'Lahore'}"
      ]
     },
     "execution_count": 39,
     "metadata": {},
     "output_type": "execute_result"
    }
   ],
   "source": [
    "person = {\"Name\":\"Sohaib\",\"Age\": 28, \"City\": \"Lahore\"}\n",
    "person"
   ]
  },
  {
   "cell_type": "markdown",
   "id": "41ce050c",
   "metadata": {},
   "source": [
    "Access and print the value associated with a specific key."
   ]
  },
  {
   "cell_type": "code",
   "execution_count": 40,
   "id": "ec5dbc94",
   "metadata": {},
   "outputs": [
    {
     "name": "stdout",
     "output_type": "stream",
     "text": [
      "Sohaib\n",
      "28\n",
      "Lahore\n"
     ]
    }
   ],
   "source": [
    "person = {\"Name\":\"Sohaib\",\"Age\": 28, \"City\": \"Lahore\"}\n",
    "print(person[\"Name\"])\n",
    "print(person[\"Age\"])\n",
    "print(person[\"City\"])"
   ]
  },
  {
   "cell_type": "markdown",
   "id": "b6b0c37d",
   "metadata": {},
   "source": [
    "    Use the get() method to access a value, providing a default value if the key is not present.\n"
   ]
  },
  {
   "cell_type": "code",
   "execution_count": 41,
   "id": "7aa9e88c",
   "metadata": {},
   "outputs": [
    {
     "data": {
      "text/plain": [
       "'Sohaib'"
      ]
     },
     "execution_count": 41,
     "metadata": {},
     "output_type": "execute_result"
    }
   ],
   "source": [
    "person = {\"Name\":\"Sohaib\",\"Age\": 28, \"City\": \"Lahore\"}\n",
    "person.get(\"Name\")"
   ]
  },
  {
   "cell_type": "markdown",
   "id": "fd070da0",
   "metadata": {},
   "source": [
    "    Iterate through the keys of a dictionary and print each key."
   ]
  },
  {
   "cell_type": "code",
   "execution_count": 42,
   "id": "20a421cc",
   "metadata": {},
   "outputs": [
    {
     "name": "stdout",
     "output_type": "stream",
     "text": [
      "Name\n",
      "Age\n",
      "City\n"
     ]
    }
   ],
   "source": [
    "person = {\"Name\":\"Sohaib\",\"Age\": 28, \"City\": \"Lahore\"}\n",
    "for key in person:\n",
    "    print(key)"
   ]
  },
  {
   "cell_type": "markdown",
   "id": "b743bd62",
   "metadata": {},
   "source": [
    "Add a new key-value pair to a dictionary."
   ]
  },
  {
   "cell_type": "code",
   "execution_count": 43,
   "id": "db404144",
   "metadata": {},
   "outputs": [],
   "source": [
    "person = {\"Name\":\"Sohaib\",\"Age\": 28, \"City\": \"Lahore\"}\n",
    "person[\"Address\"] = \"Johr Town\""
   ]
  },
  {
   "cell_type": "markdown",
   "id": "ef13537b",
   "metadata": {},
   "source": [
    "Modify the value associated with an existing key."
   ]
  },
  {
   "cell_type": "code",
   "execution_count": 44,
   "id": "5e655290",
   "metadata": {},
   "outputs": [],
   "source": [
    "person = {\"Name\":\"Sohaib\",\"Age\": 28, \"City\": \"Lahore\"}\n",
    "person[\"Name\"] = \"Sohaib Saeed\""
   ]
  },
  {
   "cell_type": "markdown",
   "id": "2ff9fb92",
   "metadata": {},
   "source": [
    "Remove a specific key-value pair from a dictionary using the pop() method.\n",
    "\n"
   ]
  },
  {
   "cell_type": "code",
   "execution_count": 45,
   "id": "1bdb4169",
   "metadata": {},
   "outputs": [
    {
     "data": {
      "text/plain": [
       "'Lahore'"
      ]
     },
     "execution_count": 45,
     "metadata": {},
     "output_type": "execute_result"
    }
   ],
   "source": [
    "person = {\"Name\":\"Sohaib\",\"Age\": 28, \"City\": \"Lahore\"}\n",
    "person.pop(\"City\")"
   ]
  },
  {
   "cell_type": "markdown",
   "id": "edc2abf7",
   "metadata": {},
   "source": [
    "    Remove a specific key-value pair from a dictionary using the del statement."
   ]
  },
  {
   "cell_type": "code",
   "execution_count": 46,
   "id": "538eca73",
   "metadata": {},
   "outputs": [],
   "source": [
    "person = {\"Name\":\"Sohaib\",\"Age\": 28, \"City\": \"Lahore\"}\n",
    "del(person[\"City\"])"
   ]
  },
  {
   "cell_type": "markdown",
   "id": "0f2d7e6a",
   "metadata": {},
   "source": [
    "Convert a dictionary to a list of keys."
   ]
  },
  {
   "cell_type": "code",
   "execution_count": 47,
   "id": "5705250c",
   "metadata": {},
   "outputs": [
    {
     "data": {
      "text/plain": [
       "['Name', 'Age', 'City']"
      ]
     },
     "execution_count": 47,
     "metadata": {},
     "output_type": "execute_result"
    }
   ],
   "source": [
    "person = {\"Name\":\"Sohaib\",\"Age\": 28, \"City\": \"Lahore\"}\n",
    "arr = list(person)\n",
    "arr"
   ]
  },
  {
   "cell_type": "markdown",
   "id": "1191e090",
   "metadata": {},
   "source": [
    "    Convert a dictionary to a list of values.\n"
   ]
  },
  {
   "cell_type": "code",
   "execution_count": 48,
   "id": "e89b908a",
   "metadata": {},
   "outputs": [],
   "source": [
    "person = {\"Name\":\"Sohaib\",\"Age\": 28, \"City\": \"Lahore\"}\n",
    "arr = list(person.values())"
   ]
  },
  {
   "cell_type": "markdown",
   "id": "f72c7f5e",
   "metadata": {},
   "source": [
    "    Convert a list of tuples to a dictionary."
   ]
  },
  {
   "cell_type": "code",
   "execution_count": 49,
   "id": "2f531bc4",
   "metadata": {},
   "outputs": [
    {
     "data": {
      "text/plain": [
       "{'Name': 'Sohaib', 'Age': 28, 'City': 'Lahore'}"
      ]
     },
     "execution_count": 49,
     "metadata": {},
     "output_type": "execute_result"
    }
   ],
   "source": [
    "person = [(\"Name\",\"Sohaib\"),(\"Age\", 28), (\"City\", \"Lahore\")]\n",
    "new_dict = dict(person)\n",
    "new_dict"
   ]
  },
  {
   "cell_type": "markdown",
   "id": "8ce9bedf",
   "metadata": {},
   "source": [
    "Use the keys() method to get a list of keys in a dictionary.\n"
   ]
  },
  {
   "cell_type": "code",
   "execution_count": 50,
   "id": "7d975a45",
   "metadata": {},
   "outputs": [
    {
     "data": {
      "text/plain": [
       "dict_keys(['Name', 'Age', 'City'])"
      ]
     },
     "execution_count": 50,
     "metadata": {},
     "output_type": "execute_result"
    }
   ],
   "source": [
    "person = {\"Name\":\"Sohaib\",\"Age\": 28, \"City\": \"Lahore\"}\n",
    "person.keys()"
   ]
  },
  {
   "cell_type": "markdown",
   "id": "8adb7c9d",
   "metadata": {},
   "source": [
    "\n",
    "    Use the values() method to get a list of values in a dictionary.\n"
   ]
  },
  {
   "cell_type": "code",
   "execution_count": 51,
   "id": "fb8a455c",
   "metadata": {},
   "outputs": [
    {
     "data": {
      "text/plain": [
       "dict_values(['Sohaib', 28, 'Lahore'])"
      ]
     },
     "execution_count": 51,
     "metadata": {},
     "output_type": "execute_result"
    }
   ],
   "source": [
    "person = {\"Name\":\"Sohaib\",\"Age\": 28, \"City\": \"Lahore\"}\n",
    "person.values()"
   ]
  },
  {
   "cell_type": "markdown",
   "id": "b4b044e4",
   "metadata": {},
   "source": [
    "    Use the items() method to get a list of key-value pairs in a dictionary."
   ]
  },
  {
   "cell_type": "code",
   "execution_count": 52,
   "id": "ca390b74",
   "metadata": {},
   "outputs": [
    {
     "data": {
      "text/plain": [
       "dict_items([('Name', 'Sohaib'), ('Age', 28), ('City', 'Lahore')])"
      ]
     },
     "execution_count": 52,
     "metadata": {},
     "output_type": "execute_result"
    }
   ],
   "source": [
    "person = {\"Name\":\"Sohaib\",\"Age\": 28, \"City\": \"Lahore\"}\n",
    "person.items()"
   ]
  },
  {
   "cell_type": "markdown",
   "id": "bd4eb41b",
   "metadata": {},
   "source": [
    "Check if a key is present in a dictionary using the in operator.\n",
    "\n"
   ]
  },
  {
   "cell_type": "code",
   "execution_count": 53,
   "id": "39c2a92f",
   "metadata": {},
   "outputs": [
    {
     "name": "stdout",
     "output_type": "stream",
     "text": [
      "Yes.\n"
     ]
    }
   ],
   "source": [
    "person = {\"Name\":\"Sohaib\",\"Age\": 28, \"City\": \"Lahore\"}\n",
    "if \"Name\" in person:\n",
    "    print(\"Yes.\")\n",
    "else:\n",
    "    print(\"No.\")"
   ]
  },
  {
   "cell_type": "markdown",
   "id": "ba80007f",
   "metadata": {},
   "source": [
    "    Use the setdefault() method to add a key with a default value if it doesn't exist.\n"
   ]
  },
  {
   "cell_type": "code",
   "execution_count": 54,
   "id": "cc19bd44",
   "metadata": {},
   "outputs": [
    {
     "data": {
      "text/plain": [
       "{'Name': 'Sohaib', 'Age': 28, 'City': 'Lahore', 'Address': 'PK'}"
      ]
     },
     "execution_count": 54,
     "metadata": {},
     "output_type": "execute_result"
    }
   ],
   "source": [
    "person = {\"Name\":\"Sohaib\",\"Age\": 28, \"City\": \"Lahore\"}\n",
    "person.setdefault(\"Address\",\"PK\")\n",
    "person"
   ]
  },
  {
   "cell_type": "markdown",
   "id": "5dd9b173",
   "metadata": {},
   "source": [
    "    Merge two dictionaries using the update() method.\n"
   ]
  },
  {
   "cell_type": "code",
   "execution_count": 55,
   "id": "05e95981",
   "metadata": {},
   "outputs": [
    {
     "data": {
      "text/plain": [
       "{'Name': 'Sohaib', 'Age': 28, 'City': 'Lahore', 'Address': 'Iqbal Town'}"
      ]
     },
     "execution_count": 55,
     "metadata": {},
     "output_type": "execute_result"
    }
   ],
   "source": [
    "person = {\"Name\":\"Sohaib\",\"Age\": 28, \"City\": \"Lahore\"}\n",
    "Details = {\"Address\": \"Iqbal Town\"}\n",
    "person.update(Details)\n",
    "person"
   ]
  },
  {
   "cell_type": "markdown",
   "id": "1415c188",
   "metadata": {},
   "source": [
    "    Use the clear() method to remove all elements from a dictionary."
   ]
  },
  {
   "cell_type": "code",
   "execution_count": 56,
   "id": "bdf48d4c",
   "metadata": {},
   "outputs": [
    {
     "data": {
      "text/plain": [
       "{}"
      ]
     },
     "execution_count": 56,
     "metadata": {},
     "output_type": "execute_result"
    }
   ],
   "source": [
    "person = {\"Name\":\"Sohaib\",\"Age\": 28, \"City\": \"Lahore\"}\n",
    "person.clear()\n",
    "person"
   ]
  }
 ],
 "metadata": {
  "kernelspec": {
   "display_name": "Python 3 (ipykernel)",
   "language": "python",
   "name": "python3"
  },
  "language_info": {
   "codemirror_mode": {
    "name": "ipython",
    "version": 3
   },
   "file_extension": ".py",
   "mimetype": "text/x-python",
   "name": "python",
   "nbconvert_exporter": "python",
   "pygments_lexer": "ipython3",
   "version": "3.10.0"
  }
 },
 "nbformat": 4,
 "nbformat_minor": 5
}
